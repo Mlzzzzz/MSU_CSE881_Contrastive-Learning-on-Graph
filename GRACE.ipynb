{
 "cells": [
  {
   "cell_type": "code",
   "execution_count": 1,
   "id": "f229ce4c-c35c-4ace-a61e-bcfa143138d8",
   "metadata": {
    "tags": []
   },
   "outputs": [],
   "source": [
    "import torch\n",
    "from torch import nn\n",
    "import os.path as osp\n",
    "import GCL.losses as L\n",
    "import GCL.augmentors as A\n",
    "import torch.nn.functional as F\n",
    "import torch_geometric.transforms as T\n",
    "\n",
    "from tqdm import tqdm\n",
    "from torch.optim import Adam\n",
    "from GCL.eval import from_predefined_split, LREvaluator\n",
    "from GCL.models import DualBranchContrast"
   ]
  },
  {
   "cell_type": "code",
   "execution_count": 2,
   "id": "2305d6ee-375f-4d10-b6f8-38ddbb260b79",
   "metadata": {
    "tags": []
   },
   "outputs": [],
   "source": [
    "from torch_geometric.nn import GCN"
   ]
  },
  {
   "cell_type": "markdown",
   "id": "831076b6-9b3c-40a6-904a-8395f49765f2",
   "metadata": {},
   "source": [
    "### import data"
   ]
  },
  {
   "cell_type": "code",
   "execution_count": 3,
   "id": "c0af27b3-fbb6-4f3d-8955-d9ff2e7672e7",
   "metadata": {
    "tags": []
   },
   "outputs": [],
   "source": [
    "import scipy.sparse as sp\n",
    "import numpy as np\n",
    "import json\n",
    "\n",
    "import torch\n",
    "import torch.nn.functional as F"
   ]
  },
  {
   "cell_type": "code",
   "execution_count": 4,
   "id": "d921a5d1-0d3d-4084-b89b-d3cf8e08aa04",
   "metadata": {
    "tags": []
   },
   "outputs": [],
   "source": [
    "# load data\n",
    "adj = sp.load_npz('../CSE881_data_2024/adj.npz')\n",
    "features  = np.load('../CSE881_data_2024/features.npy')\n",
    "labels = np.load('../CSE881_data_2024/labels.npy')\n",
    "splits = json.load(open('../CSE881_data_2024/splits.json'))\n",
    "idx_train, idx_test = splits['idx_train'], splits['idx_test']"
   ]
  },
  {
   "cell_type": "code",
   "execution_count": 5,
   "id": "43a7db1e-8980-4881-9012-11fb34cf8e6b",
   "metadata": {
    "tags": []
   },
   "outputs": [
    {
     "name": "stdout",
     "output_type": "stream",
     "text": [
      "There are 10100 edges in total in the graph\n",
      "\n",
      "tensor([1.])\n",
      "These edges are not weighted.\n"
     ]
    }
   ],
   "source": [
    "# transfer adjacency matrix into edge index\n",
    "from torch_geometric.utils import from_scipy_sparse_matrix\n",
    "\n",
    "edge_index = from_scipy_sparse_matrix(adj)\n",
    "print(\"There are\", edge_index[0].size(1), \"edges in total in the graph\\n\")\n",
    "\n",
    "print(torch.unique(edge_index[1]))\n",
    "print(\"These edges are not weighted.\")"
   ]
  },
  {
   "cell_type": "code",
   "execution_count": 6,
   "id": "2a4494c9-7453-477b-915e-8fe0faf8de8c",
   "metadata": {
    "tags": []
   },
   "outputs": [
    {
     "name": "stdout",
     "output_type": "stream",
     "text": [
      "There are 2480 nodes in the graph.\n",
      "Each node can be one of 7 classes.\n",
      "Training set size: 496\n",
      "Test set size: 1984\n"
     ]
    }
   ],
   "source": [
    "print(\"There are\", len(features), \"nodes in the graph.\")\n",
    "num_classes = len(np.unique(labels))\n",
    "print(\"Each node can be one of\", num_classes, \"classes.\")\n",
    "print(\"Training set size:\", len(idx_train))\n",
    "print(\"Test set size:\", len(idx_test))"
   ]
  },
  {
   "cell_type": "code",
   "execution_count": 7,
   "id": "e7337c20-7f02-406c-8fa8-79c89953ff2b",
   "metadata": {
    "tags": []
   },
   "outputs": [],
   "source": [
    "device = 'cuda'"
   ]
  },
  {
   "cell_type": "code",
   "execution_count": 8,
   "id": "6817729f-6b2b-457a-89be-cb596bcd5efa",
   "metadata": {
    "tags": []
   },
   "outputs": [
    {
     "name": "stdout",
     "output_type": "stream",
     "text": [
      "Number of features: 1390\n"
     ]
    }
   ],
   "source": [
    "features = torch.from_numpy(features).float()\n",
    "num_features = len(features[0])\n",
    "print(\"Number of features:\", num_features)"
   ]
  },
  {
   "cell_type": "code",
   "execution_count": 9,
   "id": "f5c5826a-40a5-4b69-bb78-8f977068ba10",
   "metadata": {
    "tags": []
   },
   "outputs": [],
   "source": [
    "features = features.to(device)\n",
    "edge_index = edge_index[0].long().to(device)\n",
    "edge_weight = edge_index[1].float().to(device)"
   ]
  },
  {
   "cell_type": "markdown",
   "id": "c2977081-aff2-412d-901c-58b53b45ca1b",
   "metadata": {},
   "source": [
    "### Split Valiadation Set"
   ]
  },
  {
   "cell_type": "code",
   "execution_count": 10,
   "id": "6651a4ba-fbda-4ae4-8d2f-d96053580dc3",
   "metadata": {},
   "outputs": [
    {
     "name": "stdout",
     "output_type": "stream",
     "text": [
      "Training subset size: 396\n",
      "Validation set size: 100\n"
     ]
    }
   ],
   "source": [
    "# split 20% of training set as validation set\n",
    "from sklearn.model_selection import train_test_split\n",
    "\n",
    "idx_train_sub, idx_val, train_labels_sub, val_labels = train_test_split(\n",
    "    idx_train, labels, test_size=0.2, random_state=123, stratify=labels)\n",
    "\n",
    "print(\"Training subset size:\", len(idx_train_sub))\n",
    "print(\"Validation set size:\", len(idx_val))"
   ]
  },
  {
   "cell_type": "code",
   "execution_count": 11,
   "id": "afe9a640-8606-4641-97df-b5c642839580",
   "metadata": {},
   "outputs": [],
   "source": [
    "train_labels_sub = torch.from_numpy(train_labels_sub).long().to(device)\n",
    "val_labels = torch.from_numpy(val_labels).long().to(device)\n",
    "labels = torch.from_numpy(labels).long().to(device)"
   ]
  },
  {
   "cell_type": "markdown",
   "id": "b1cf1467-3309-4be0-87cf-52a6eb6c5d39",
   "metadata": {},
   "source": [
    "### main"
   ]
  },
  {
   "cell_type": "code",
   "execution_count": 12,
   "id": "91f3beff-a42a-4d3b-8cc4-b1d213e184c6",
   "metadata": {},
   "outputs": [],
   "source": [
    "class Encoder(torch.nn.Module):\n",
    "    def __init__(self, encoder, augmentor, hidden_dim, proj_dim):\n",
    "        super(Encoder, self).__init__()\n",
    "        self.encoder = encoder\n",
    "        self.augmentor = augmentor\n",
    "\n",
    "        self.fc1 = torch.nn.Linear(hidden_dim, proj_dim)\n",
    "        self.fc2 = torch.nn.Linear(proj_dim, hidden_dim)\n",
    "\n",
    "    def forward(self, x, edge_index, edge_weight=None):\n",
    "        aug1, aug2 = self.augmentor\n",
    "        x1, edge_index1, edge_weight1 = aug1(x, edge_index, edge_weight)\n",
    "        x2, edge_index2, edge_weight2 = aug2(x, edge_index, edge_weight)\n",
    "        z = self.encoder(x, edge_index, edge_weight)\n",
    "        z1 = self.encoder(x1, edge_index1, edge_weight1)\n",
    "        z2 = self.encoder(x2, edge_index2, edge_weight2)\n",
    "        return z, z1, z2\n",
    "\n",
    "    def project(self, z: torch.Tensor) -> torch.Tensor:\n",
    "        z = F.elu(self.fc1(z))\n",
    "        return self.fc2(z)"
   ]
  },
  {
   "cell_type": "code",
   "execution_count": 13,
   "id": "bdc5ff23-8cd3-40a0-9445-2dd1f35052a3",
   "metadata": {},
   "outputs": [],
   "source": [
    "def train(encoder_model, contrast_model, optimizer, features=features, \n",
    "         edge_index=edge_index, edge_weight=edge_weight, labels=labels):\n",
    "    \n",
    "    encoder_model.train()\n",
    "    optimizer.zero_grad()\n",
    "    z, z1, z2 = encoder_model(features, edge_index, edge_weight)\n",
    "    h1, h2 = [encoder_model.project(x) for x in [z1, z2]]\n",
    "    loss = contrast_model(h1, h2)\n",
    "    loss.backward()\n",
    "    optimizer.step()\n",
    "    return loss.item()    "
   ]
  },
  {
   "cell_type": "code",
   "execution_count": 14,
   "id": "787f1c57-602c-4b53-a8d9-a8be184c619f",
   "metadata": {},
   "outputs": [],
   "source": [
    "class LogisticRegression(nn.Module):\n",
    "    def __init__(self, num_features, num_classes):\n",
    "        super(LogisticRegression, self).__init__()\n",
    "        self.fc = nn.Linear(num_features, num_classes)\n",
    "        torch.nn.init.xavier_uniform_(self.fc.weight.data)\n",
    "\n",
    "\n",
    "    def forward(self, x):\n",
    "        x = self.fc(x)\n",
    "        return x\n",
    "\n",
    "def test(encoder_model, input_dim, num_class, features=features, edge_index=edge_index, \n",
    "         labels=labels, edge_weight=edge_weight):\n",
    "    \n",
    "    encoder_model.eval()\n",
    "    with torch.no_grad():\n",
    "        z, _, _ = encoder_model(features, edge_index, edge_weight)\n",
    "        z = z.detach()\n",
    "    \n",
    "    classifier = LogisticRegression(input_dim, num_class).to(device)\n",
    "    optimizer = Adam(classifier.parameters(), lr=0.02)\n",
    "    criterion = torch.nn.CrossEntropyLoss()\n",
    "    \n",
    "    for epoch in range(400):\n",
    "        classifier.train()\n",
    "        optimizer.zero_grad()\n",
    "        logits = classifier(z)  \n",
    "        loss = criterion(logits[idx_train_sub], train_labels_sub)\n",
    "        loss.backward()\n",
    "        optimizer.step()\n",
    "        \n",
    "        if epoch % 40 == 0:\n",
    "            classifier.eval()\n",
    "            with torch.no_grad():\n",
    "                logits_val = classifier(z)\n",
    "                loss_val = criterion(logits_val[idx_val], val_labels)\n",
    "                preds = logits_val.argmax(dim=1)\n",
    "                correct = preds[idx_val].eq(val_labels).sum().item()\n",
    "                accuracy = correct / len(val_labels)\n",
    "                print(f'Epoch: {epoch}, Train Loss: {loss:.4f}, Val Loss: {loss_val:.4f}, Val Accuracy: {accuracy:.4f}')\n",
    "        \n",
    "    classifier.eval()\n",
    "    with torch.no_grad():\n",
    "        logits = classifier(z)\n",
    "        preds = logits.argmax(dim=1)\n",
    "        correct = preds[idx_val].eq(val_labels).sum().item()\n",
    "        accuracy = correct / len(val_labels)\n",
    "        print(f'Final Val Accuracy: {accuracy:.4f}')\n",
    "\n",
    "    return accuracy"
   ]
  },
  {
   "cell_type": "code",
   "execution_count": 15,
   "id": "772d5cbe-27ff-4103-9cf1-69a9f0a214aa",
   "metadata": {
    "tags": []
   },
   "outputs": [],
   "source": [
    "aug1 = A.Compose([A.EdgeRemoving(pe=0.1), A.FeatureMasking(pf=0.1), A.FeatureDropout(pf=0.1), A.NodeDropping(pn=0.2)])\n",
    "aug2 = A.Compose([A.EdgeRemoving(pe=0.1), A.FeatureMasking(pf=0.1), A.FeatureDropout(pf=0.1), A.NodeDropping(pn=0.2)])"
   ]
  },
  {
   "cell_type": "code",
   "execution_count": 16,
   "id": "4ebbde87-4fcd-449b-8d24-5418d5998848",
   "metadata": {},
   "outputs": [],
   "source": [
    "gconv = GCN(in_channels=num_features, hidden_channels=512, \n",
    "               out_channels=32, num_layers=3, dropout=0.5, act='relu').to(device)"
   ]
  },
  {
   "cell_type": "code",
   "execution_count": 17,
   "id": "ea77be13-d88d-4a80-b52a-e31ccc7ab530",
   "metadata": {
    "tags": []
   },
   "outputs": [],
   "source": [
    "encoder_model = Encoder(encoder=gconv, augmentor=(aug1, aug2), hidden_dim=32, proj_dim=32).to(device)\n",
    "contrast_model = DualBranchContrast(loss=L.InfoNCE(tau=0.2), mode='L2L', intraview_negs=True).to(device)"
   ]
  },
  {
   "cell_type": "code",
   "execution_count": 18,
   "id": "a0ab0b7a-fc73-4bd1-b9ec-87286ef1b81d",
   "metadata": {
    "tags": []
   },
   "outputs": [],
   "source": [
    "optimizer = Adam(encoder_model.parameters(), lr=0.001)"
   ]
  },
  {
   "cell_type": "code",
   "execution_count": 19,
   "id": "bad208c6-2229-440e-9d14-01e4c04f4228",
   "metadata": {
    "tags": []
   },
   "outputs": [
    {
     "name": "stderr",
     "output_type": "stream",
     "text": [
      "(T):   0%|          | 0/700 [00:00<?, ?it/s]F:\\anaconda\\Lib\\site-packages\\torch_geometric\\deprecation.py:26: UserWarning: 'dropout_adj' is deprecated, use 'dropout_edge' instead\n",
      "  warnings.warn(out)\n",
      "(T):  14%|█▍        | 100/700 [00:04<00:24, 24.85it/s, loss=8.25]"
     ]
    },
    {
     "name": "stdout",
     "output_type": "stream",
     "text": [
      "Epoch: 0, Train Loss: 3.6392, Val Loss: 3.1457, Val Accuracy: 0.1400\n",
      "Epoch: 40, Train Loss: 1.1094, Val Loss: 1.0370, Val Accuracy: 0.5800\n",
      "Epoch: 80, Train Loss: 0.9878, Val Loss: 0.8874, Val Accuracy: 0.6800\n",
      "Epoch: 120, Train Loss: 0.9348, Val Loss: 0.8379, Val Accuracy: 0.7000\n",
      "Epoch: 160, Train Loss: 0.9000, Val Loss: 0.8068, Val Accuracy: 0.7000\n",
      "Epoch: 200, Train Loss: 0.8740, Val Loss: 0.7861, Val Accuracy: 0.7100\n",
      "Epoch: 240, Train Loss: 0.8533, Val Loss: 0.7709, Val Accuracy: 0.7200\n",
      "Epoch: 280, Train Loss: 0.8360, Val Loss: 0.7591, Val Accuracy: 0.7300\n"
     ]
    },
    {
     "name": "stderr",
     "output_type": "stream",
     "text": [
      "(T):  14%|█▍        | 101/700 [00:04<00:24, 24.85it/s, loss=8.22]"
     ]
    },
    {
     "name": "stdout",
     "output_type": "stream",
     "text": [
      "Epoch: 320, Train Loss: 0.8211, Val Loss: 0.7493, Val Accuracy: 0.7400\n",
      "Epoch: 360, Train Loss: 0.8080, Val Loss: 0.7410, Val Accuracy: 0.7300\n",
      "Final Val Accuracy: 0.7400\n"
     ]
    },
    {
     "name": "stderr",
     "output_type": "stream",
     "text": [
      "(T):  28%|██▊       | 199/700 [00:09<00:21, 23.05it/s, loss=7.88]"
     ]
    },
    {
     "name": "stdout",
     "output_type": "stream",
     "text": [
      "Epoch: 0, Train Loss: 2.4055, Val Loss: 1.8751, Val Accuracy: 0.4000\n",
      "Epoch: 40, Train Loss: 0.7872, Val Loss: 0.6966, Val Accuracy: 0.7600\n",
      "Epoch: 80, Train Loss: 0.7455, Val Loss: 0.6674, Val Accuracy: 0.7800\n",
      "Epoch: 120, Train Loss: 0.7243, Val Loss: 0.6518, Val Accuracy: 0.7900\n",
      "Epoch: 160, Train Loss: 0.7093, Val Loss: 0.6397, Val Accuracy: 0.7900\n",
      "Epoch: 200, Train Loss: 0.6975, Val Loss: 0.6323, Val Accuracy: 0.7900\n",
      "Epoch: 240, Train Loss: 0.6877, Val Loss: 0.6275, Val Accuracy: 0.8000\n"
     ]
    },
    {
     "name": "stderr",
     "output_type": "stream",
     "text": [
      "(T):  29%|██▊       | 200/700 [00:09<00:21, 23.05it/s, loss=7.92]"
     ]
    },
    {
     "name": "stdout",
     "output_type": "stream",
     "text": [
      "Epoch: 280, Train Loss: 0.6793, Val Loss: 0.6243, Val Accuracy: 0.8000\n",
      "Epoch: 320, Train Loss: 0.6718, Val Loss: 0.6221, Val Accuracy: 0.8100\n",
      "Epoch: 360, Train Loss: 0.6649, Val Loss: 0.6207, Val Accuracy: 0.8100\n",
      "Final Val Accuracy: 0.8000\n"
     ]
    },
    {
     "name": "stderr",
     "output_type": "stream",
     "text": [
      "(T):  43%|████▎     | 299/700 [00:13<00:15, 25.78it/s, loss=7.74]"
     ]
    },
    {
     "name": "stdout",
     "output_type": "stream",
     "text": [
      "Epoch: 0, Train Loss: 3.8204, Val Loss: 3.3015, Val Accuracy: 0.0300\n",
      "Epoch: 40, Train Loss: 0.7543, Val Loss: 0.6600, Val Accuracy: 0.8100\n",
      "Epoch: 80, Train Loss: 0.7059, Val Loss: 0.6508, Val Accuracy: 0.8100\n",
      "Epoch: 120, Train Loss: 0.6852, Val Loss: 0.6342, Val Accuracy: 0.8100\n",
      "Epoch: 160, Train Loss: 0.6708, Val Loss: 0.6204, Val Accuracy: 0.8200\n",
      "Epoch: 200, Train Loss: 0.6591, Val Loss: 0.6100, Val Accuracy: 0.8200\n",
      "Epoch: 240, Train Loss: 0.6491, Val Loss: 0.6018, Val Accuracy: 0.8200\n",
      "Epoch: 280, Train Loss: 0.6401, Val Loss: 0.5958, Val Accuracy: 0.8100\n"
     ]
    },
    {
     "name": "stderr",
     "output_type": "stream",
     "text": [
      "(T):  43%|████▎     | 301/700 [00:14<00:37, 10.56it/s, loss=7.79]"
     ]
    },
    {
     "name": "stdout",
     "output_type": "stream",
     "text": [
      "Epoch: 320, Train Loss: 0.6320, Val Loss: 0.5916, Val Accuracy: 0.8300\n",
      "Epoch: 360, Train Loss: 0.6245, Val Loss: 0.5887, Val Accuracy: 0.8100\n",
      "Final Val Accuracy: 0.8000\n"
     ]
    },
    {
     "name": "stderr",
     "output_type": "stream",
     "text": [
      "(T):  57%|█████▋    | 400/700 [00:18<00:11, 25.86it/s, loss=7.59]"
     ]
    },
    {
     "name": "stdout",
     "output_type": "stream",
     "text": [
      "Epoch: 0, Train Loss: 4.4630, Val Loss: 3.7361, Val Accuracy: 0.1200\n",
      "Epoch: 40, Train Loss: 0.7173, Val Loss: 0.6576, Val Accuracy: 0.7900\n",
      "Epoch: 80, Train Loss: 0.6685, Val Loss: 0.5916, Val Accuracy: 0.8300\n",
      "Epoch: 120, Train Loss: 0.6476, Val Loss: 0.5801, Val Accuracy: 0.8400\n",
      "Epoch: 160, Train Loss: 0.6323, Val Loss: 0.5672, Val Accuracy: 0.8200\n",
      "Epoch: 200, Train Loss: 0.6197, Val Loss: 0.5570, Val Accuracy: 0.8200\n",
      "Epoch: 240, Train Loss: 0.6088, Val Loss: 0.5494, Val Accuracy: 0.8200\n",
      "Epoch: 280, Train Loss: 0.5989, Val Loss: 0.5434, Val Accuracy: 0.8200\n"
     ]
    },
    {
     "name": "stderr",
     "output_type": "stream",
     "text": [
      "(T):  57%|█████▋    | 400/700 [00:18<00:11, 25.86it/s, loss=7.64]"
     ]
    },
    {
     "name": "stdout",
     "output_type": "stream",
     "text": [
      "Epoch: 320, Train Loss: 0.5898, Val Loss: 0.5386, Val Accuracy: 0.8200\n",
      "Epoch: 360, Train Loss: 0.5814, Val Loss: 0.5348, Val Accuracy: 0.8200\n",
      "Final Val Accuracy: 0.8300\n"
     ]
    },
    {
     "name": "stderr",
     "output_type": "stream",
     "text": [
      "(T):  71%|███████▏  | 499/700 [00:22<00:07, 25.85it/s, loss=7.68]"
     ]
    },
    {
     "name": "stdout",
     "output_type": "stream",
     "text": [
      "Epoch: 0, Train Loss: 3.1027, Val Loss: 2.4029, Val Accuracy: 0.1800\n",
      "Epoch: 40, Train Loss: 0.6852, Val Loss: 0.6130, Val Accuracy: 0.8300\n",
      "Epoch: 80, Train Loss: 0.6328, Val Loss: 0.5792, Val Accuracy: 0.8400\n",
      "Epoch: 120, Train Loss: 0.6050, Val Loss: 0.5568, Val Accuracy: 0.8500\n",
      "Epoch: 160, Train Loss: 0.5834, Val Loss: 0.5458, Val Accuracy: 0.8500\n",
      "Epoch: 200, Train Loss: 0.5663, Val Loss: 0.5392, Val Accuracy: 0.8500\n",
      "Epoch: 240, Train Loss: 0.5523, Val Loss: 0.5354, Val Accuracy: 0.8400\n",
      "Epoch: 280, Train Loss: 0.5405, Val Loss: 0.5331, Val Accuracy: 0.8300\n"
     ]
    },
    {
     "name": "stderr",
     "output_type": "stream",
     "text": [
      "(T):  72%|███████▏  | 502/700 [00:23<00:18, 10.84it/s, loss=7.64]"
     ]
    },
    {
     "name": "stdout",
     "output_type": "stream",
     "text": [
      "Epoch: 320, Train Loss: 0.5304, Val Loss: 0.5317, Val Accuracy: 0.8200\n",
      "Epoch: 360, Train Loss: 0.5216, Val Loss: 0.5308, Val Accuracy: 0.8100\n",
      "Final Val Accuracy: 0.8100\n"
     ]
    },
    {
     "name": "stderr",
     "output_type": "stream",
     "text": [
      "(T):  86%|████████▌ | 599/700 [00:27<00:03, 25.57it/s, loss=7.59]"
     ]
    },
    {
     "name": "stdout",
     "output_type": "stream",
     "text": [
      "Epoch: 0, Train Loss: 4.0784, Val Loss: 3.3886, Val Accuracy: 0.1300\n",
      "Epoch: 40, Train Loss: 0.6916, Val Loss: 0.6294, Val Accuracy: 0.8200\n",
      "Epoch: 80, Train Loss: 0.6298, Val Loss: 0.5898, Val Accuracy: 0.8300\n",
      "Epoch: 120, Train Loss: 0.6036, Val Loss: 0.5789, Val Accuracy: 0.8400\n",
      "Epoch: 160, Train Loss: 0.5844, Val Loss: 0.5684, Val Accuracy: 0.8500\n",
      "Epoch: 200, Train Loss: 0.5686, Val Loss: 0.5602, Val Accuracy: 0.8400\n",
      "Epoch: 240, Train Loss: 0.5553, Val Loss: 0.5541, Val Accuracy: 0.8400\n",
      "Epoch: 280, Train Loss: 0.5437, Val Loss: 0.5497, Val Accuracy: 0.8400\n",
      "Epoch: 320, Train Loss: 0.5337, Val Loss: 0.5466, Val Accuracy: 0.8400\n"
     ]
    },
    {
     "name": "stderr",
     "output_type": "stream",
     "text": [
      "(T):  86%|████████▌ | 602/700 [00:27<00:09, 10.64it/s, loss=7.65]"
     ]
    },
    {
     "name": "stdout",
     "output_type": "stream",
     "text": [
      "Epoch: 360, Train Loss: 0.5247, Val Loss: 0.5446, Val Accuracy: 0.8400\n",
      "Final Val Accuracy: 0.8400\n"
     ]
    },
    {
     "name": "stderr",
     "output_type": "stream",
     "text": [
      "(T): 100%|██████████| 700/700 [00:31<00:00, 25.59it/s, loss=7.56]"
     ]
    },
    {
     "name": "stdout",
     "output_type": "stream",
     "text": [
      "Epoch: 0, Train Loss: 2.7749, Val Loss: 2.6986, Val Accuracy: 0.3500\n",
      "Epoch: 40, Train Loss: 0.6487, Val Loss: 0.5999, Val Accuracy: 0.8300\n",
      "Epoch: 80, Train Loss: 0.5909, Val Loss: 0.5618, Val Accuracy: 0.8600\n",
      "Epoch: 120, Train Loss: 0.5605, Val Loss: 0.5478, Val Accuracy: 0.8500\n",
      "Epoch: 160, Train Loss: 0.5386, Val Loss: 0.5404, Val Accuracy: 0.8500\n",
      "Epoch: 200, Train Loss: 0.5218, Val Loss: 0.5373, Val Accuracy: 0.8500\n",
      "Epoch: 240, Train Loss: 0.5084, Val Loss: 0.5373, Val Accuracy: 0.8600\n",
      "Epoch: 280, Train Loss: 0.4972, Val Loss: 0.5391, Val Accuracy: 0.8400\n",
      "Epoch: 320, Train Loss: 0.4876, Val Loss: 0.5418, Val Accuracy: 0.8300\n"
     ]
    },
    {
     "name": "stderr",
     "output_type": "stream",
     "text": [
      "(T): 100%|██████████| 700/700 [00:32<00:00, 21.69it/s, loss=7.56]"
     ]
    },
    {
     "name": "stdout",
     "output_type": "stream",
     "text": [
      "Epoch: 360, Train Loss: 0.4793, Val Loss: 0.5449, Val Accuracy: 0.8300\n",
      "Final Val Accuracy: 0.8300\n"
     ]
    },
    {
     "name": "stderr",
     "output_type": "stream",
     "text": [
      "\n"
     ]
    }
   ],
   "source": [
    "with tqdm(total=700, desc='(T)') as pbar:\n",
    "    for epoch in range(1, 701):\n",
    "        loss = train(encoder_model, contrast_model, optimizer=optimizer)\n",
    "        pbar.set_postfix({'loss': loss})\n",
    "        pbar.update()\n",
    "        if epoch % 100 == 0:\n",
    "            test(encoder_model, input_dim=32, num_class=7)"
   ]
  }
 ],
 "metadata": {
  "kernelspec": {
   "display_name": "Python 3 (ipykernel)",
   "language": "python",
   "name": "python3"
  },
  "language_info": {
   "codemirror_mode": {
    "name": "ipython",
    "version": 3
   },
   "file_extension": ".py",
   "mimetype": "text/x-python",
   "name": "python",
   "nbconvert_exporter": "python",
   "pygments_lexer": "ipython3",
   "version": "3.11.5"
  }
 },
 "nbformat": 4,
 "nbformat_minor": 5
}
