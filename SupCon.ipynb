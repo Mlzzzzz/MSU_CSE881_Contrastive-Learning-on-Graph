{
 "cells": [
  {
   "cell_type": "code",
   "execution_count": 1,
   "id": "f229ce4c-c35c-4ace-a61e-bcfa143138d8",
   "metadata": {
    "tags": []
   },
   "outputs": [],
   "source": [
    "import torch\n",
    "from torch import nn\n",
    "import os.path as osp\n",
    "import GCL.losses as L\n",
    "import GCL.augmentors as A\n",
    "import torch.nn.functional as F\n",
    "import torch_geometric.transforms as T\n",
    "\n",
    "from tqdm import tqdm\n",
    "from torch.optim import Adam\n",
    "from GCL.eval import from_predefined_split, LREvaluator\n",
    "from GCL.models import DualBranchContrast"
   ]
  },
  {
   "cell_type": "code",
   "execution_count": 2,
   "id": "2305d6ee-375f-4d10-b6f8-38ddbb260b79",
   "metadata": {
    "tags": []
   },
   "outputs": [],
   "source": [
    "from torch_geometric.nn import GCN"
   ]
  },
  {
   "cell_type": "markdown",
   "id": "831076b6-9b3c-40a6-904a-8395f49765f2",
   "metadata": {},
   "source": [
    "### import data"
   ]
  },
  {
   "cell_type": "code",
   "execution_count": 4,
   "id": "c0af27b3-fbb6-4f3d-8955-d9ff2e7672e7",
   "metadata": {
    "tags": []
   },
   "outputs": [],
   "source": [
    "import scipy.sparse as sp\n",
    "import numpy as np\n",
    "import json\n",
    "\n",
    "import torch\n",
    "import torch.nn.functional as F"
   ]
  },
  {
   "cell_type": "code",
   "execution_count": 5,
   "id": "d921a5d1-0d3d-4084-b89b-d3cf8e08aa04",
   "metadata": {
    "tags": []
   },
   "outputs": [],
   "source": [
    "# load data\n",
    "adj = sp.load_npz('../CSE881_data_2024/adj.npz')\n",
    "features  = np.load('../CSE881_data_2024/features.npy')\n",
    "labels = np.load('../CSE881_data_2024/labels.npy')\n",
    "splits = json.load(open('../CSE881_data_2024/splits.json'))\n",
    "idx_train, idx_test = splits['idx_train'], splits['idx_test']"
   ]
  },
  {
   "cell_type": "code",
   "execution_count": 6,
   "id": "43a7db1e-8980-4881-9012-11fb34cf8e6b",
   "metadata": {
    "tags": []
   },
   "outputs": [
    {
     "name": "stdout",
     "output_type": "stream",
     "text": [
      "There are 10100 edges in total in the graph\n",
      "\n",
      "tensor([1.])\n",
      "These edges are not weighted.\n"
     ]
    }
   ],
   "source": [
    "# transfer adjacency matrix into edge index\n",
    "from torch_geometric.utils import from_scipy_sparse_matrix\n",
    "\n",
    "edge_index = from_scipy_sparse_matrix(adj)\n",
    "print(\"There are\", edge_index[0].size(1), \"edges in total in the graph\\n\")\n",
    "\n",
    "print(torch.unique(edge_index[1]))\n",
    "print(\"These edges are not weighted.\")"
   ]
  },
  {
   "cell_type": "code",
   "execution_count": 7,
   "id": "2a4494c9-7453-477b-915e-8fe0faf8de8c",
   "metadata": {
    "tags": []
   },
   "outputs": [
    {
     "name": "stdout",
     "output_type": "stream",
     "text": [
      "There are 2480 nodes in the graph.\n",
      "Each node can be one of 7 classes.\n",
      "Training set size: 496\n",
      "Test set size: 1984\n"
     ]
    }
   ],
   "source": [
    "print(\"There are\", len(features), \"nodes in the graph.\")\n",
    "num_classes = len(np.unique(labels))\n",
    "print(\"Each node can be one of\", num_classes, \"classes.\")\n",
    "print(\"Training set size:\", len(idx_train))\n",
    "print(\"Test set size:\", len(idx_test))"
   ]
  },
  {
   "cell_type": "code",
   "execution_count": 8,
   "id": "e7337c20-7f02-406c-8fa8-79c89953ff2b",
   "metadata": {
    "tags": []
   },
   "outputs": [],
   "source": [
    "device = 'cuda'"
   ]
  },
  {
   "cell_type": "code",
   "execution_count": 9,
   "id": "6817729f-6b2b-457a-89be-cb596bcd5efa",
   "metadata": {
    "tags": []
   },
   "outputs": [
    {
     "name": "stdout",
     "output_type": "stream",
     "text": [
      "Number of features: 1390\n"
     ]
    }
   ],
   "source": [
    "features = torch.from_numpy(features).float()\n",
    "num_features = len(features[0])\n",
    "print(\"Number of features:\", num_features)"
   ]
  },
  {
   "cell_type": "code",
   "execution_count": 10,
   "id": "f5c5826a-40a5-4b69-bb78-8f977068ba10",
   "metadata": {
    "tags": []
   },
   "outputs": [],
   "source": [
    "features = features.to(device)\n",
    "edge_index = edge_index[0].long().to(device)\n",
    "edge_weight = edge_index[1].float().to(device)"
   ]
  },
  {
   "cell_type": "markdown",
   "id": "9d9a674d-2edf-4fa5-9a6f-17b24694d76c",
   "metadata": {},
   "source": [
    "### Split Valiadation Set"
   ]
  },
  {
   "cell_type": "code",
   "execution_count": 12,
   "id": "1c8f0a9b-0f1a-4d21-a2d5-e9d8b1865ea0",
   "metadata": {
    "tags": []
   },
   "outputs": [
    {
     "name": "stdout",
     "output_type": "stream",
     "text": [
      "Training subset size: 396\n",
      "Validation set size: 100\n"
     ]
    }
   ],
   "source": [
    "# split 20% of training set as validation set\n",
    "from sklearn.model_selection import train_test_split\n",
    "\n",
    "idx_train_sub, idx_val, train_labels_sub, val_labels = train_test_split(\n",
    "    idx_train, labels, test_size=0.2, random_state=123, stratify=labels)\n",
    "\n",
    "print(\"Training subset size:\", len(idx_train_sub))\n",
    "print(\"Validation set size:\", len(idx_val))"
   ]
  },
  {
   "cell_type": "code",
   "execution_count": 13,
   "id": "c2ebdda4-a54c-477c-bbec-758f8940b6ff",
   "metadata": {
    "tags": []
   },
   "outputs": [],
   "source": [
    "train_labels_sub = torch.from_numpy(train_labels_sub).long().to(device)\n",
    "val_labels = torch.from_numpy(val_labels).long().to(device)\n",
    "labels = torch.from_numpy(labels).long().to(device)"
   ]
  },
  {
   "cell_type": "markdown",
   "id": "b1cf1467-3309-4be0-87cf-52a6eb6c5d39",
   "metadata": {},
   "source": [
    "### main"
   ]
  },
  {
   "cell_type": "code",
   "execution_count": 15,
   "id": "91f3beff-a42a-4d3b-8cc4-b1d213e184c6",
   "metadata": {},
   "outputs": [],
   "source": [
    "class Encoder(torch.nn.Module):\n",
    "    def __init__(self, encoder, augmentor, hidden_dim, proj_dim):\n",
    "        super(Encoder, self).__init__()\n",
    "        self.encoder = encoder\n",
    "        self.augmentor = augmentor\n",
    "\n",
    "        self.fc1 = torch.nn.Linear(hidden_dim, proj_dim)\n",
    "        self.fc2 = torch.nn.Linear(proj_dim, hidden_dim)\n",
    "\n",
    "    def forward(self, x, edge_index, edge_weight=None):\n",
    "        aug1, aug2 = self.augmentor\n",
    "        x1, edge_index1, edge_weight1 = aug1(x, edge_index, edge_weight)\n",
    "        x2, edge_index2, edge_weight2 = aug2(x, edge_index, edge_weight)\n",
    "        z = self.encoder(x, edge_index, edge_weight)\n",
    "        z1 = self.encoder(x1, edge_index1, edge_weight1)\n",
    "        z2 = self.encoder(x2, edge_index2, edge_weight2)\n",
    "        return z, z1, z2\n",
    "\n",
    "    def project(self, z: torch.Tensor) -> torch.Tensor:\n",
    "        z = F.elu(self.fc1(z))\n",
    "        return self.fc2(z)"
   ]
  },
  {
   "cell_type": "code",
   "execution_count": 16,
   "id": "1c3e594e-bb87-423f-8641-9065aa36c6d2",
   "metadata": {},
   "outputs": [],
   "source": [
    "num_nodes = 2480\n",
    "\n",
    "# create extra_pos_mask\n",
    "# initialize a 2480 x 2480 matrix of False\n",
    "extra_pos_mask = torch.zeros((num_nodes, num_nodes), dtype=torch.bool).to(device)\n",
    "\n",
    "# create a temporary full label tensor initialized with a dummy label and place the known labels\n",
    "full_labels = torch.full((num_nodes,), -1, dtype=train_labels_sub.dtype).to(device)\n",
    "full_labels[idx_train_sub] = train_labels_sub\n",
    "\n",
    "# iterate through each known label and update the label_matrix to True by finding nodes with the same label\n",
    "for i, label in zip(idx_train_sub, train_labels_sub):\n",
    "    same_label_indices = torch.where(full_labels == label)[0]\n",
    "    extra_pos_mask[i, same_label_indices] = True\n",
    "    extra_pos_mask[same_label_indices, i] = True\n",
    "extra_pos_mask.fill_diagonal_(False)\n",
    "\n",
    "# pos_mask: [N, 2N] for both inter-view and intra-view samples\n",
    "extra_pos_mask = torch.cat([extra_pos_mask, extra_pos_mask], dim=1).to(device)\n",
    "# fill inter-view positives only; pos_mask for intra-view samples should have False in diagonal\n",
    "extra_pos_mask.fill_diagonal_(True)\n",
    "    \n",
    "# create extra_neg_mask\n",
    "# initialize a 2480 x 2480 matrix of True\n",
    "extra_neg_mask = torch.ones((num_nodes, num_nodes), dtype=torch.bool).to(device)\n",
    "\n",
    "# iterate through each known label and update the label_matrix to False by finding nodes with the same label\n",
    "for i, label in zip(idx_train_sub, train_labels_sub):\n",
    "    same_label_indices = torch.where(full_labels == label)[0]\n",
    "    extra_neg_mask[i, same_label_indices] = False\n",
    "    extra_neg_mask[same_label_indices, i] = False\n",
    "\n",
    "# set the diagonal to False since a sample cannot be a negative of itself\n",
    "extra_neg_mask.fill_diagonal_(False)\n",
    "\n",
    "# neg_mask: [N, 2N] for both inter-view and intra-view samples\n",
    "extra_neg_mask = torch.cat([extra_neg_mask, extra_neg_mask], dim=1).to(device)"
   ]
  },
  {
   "cell_type": "code",
   "execution_count": 17,
   "id": "bdc5ff23-8cd3-40a0-9445-2dd1f35052a3",
   "metadata": {},
   "outputs": [],
   "source": [
    "def train(encoder_model, contrast_model, optimizer, features=features, \n",
    "         edge_index=edge_index, edge_weight=edge_weight, labels=labels,\n",
    "         extra_pos_mask=extra_pos_mask, extra_neg_mask=extra_neg_mask):\n",
    "    \n",
    "    encoder_model.train()\n",
    "    optimizer.zero_grad()\n",
    "    z, z1, z2 = encoder_model(features, edge_index, edge_weight)\n",
    "    h1, h2 = [encoder_model.project(x) for x in [z1, z2]]\n",
    "    \n",
    "    loss = contrast_model(h1=h1, h2=h2, extra_pos_mask=extra_pos_mask, extra_neg_mask=extra_neg_mask)\n",
    "    loss.backward()\n",
    "    optimizer.step()\n",
    "    return loss.item()    "
   ]
  },
  {
   "cell_type": "code",
   "execution_count": 18,
   "id": "787f1c57-602c-4b53-a8d9-a8be184c619f",
   "metadata": {},
   "outputs": [],
   "source": [
    "class LogisticRegression(nn.Module):\n",
    "    def __init__(self, num_features, num_classes):\n",
    "        super(LogisticRegression, self).__init__()\n",
    "        self.fc = nn.Linear(num_features, num_classes)\n",
    "        torch.nn.init.xavier_uniform_(self.fc.weight.data)\n",
    "\n",
    "\n",
    "    def forward(self, x):\n",
    "        x = self.fc(x)\n",
    "        return x\n",
    "\n",
    "def test(encoder_model, input_dim, num_class, features=features, edge_index=edge_index, \n",
    "         labels=labels, edge_weight=edge_weight):\n",
    "    \n",
    "    encoder_model.eval()\n",
    "    with torch.no_grad():\n",
    "        z, _, _ = encoder_model(features, edge_index, edge_weight)\n",
    "        z = z.detach()\n",
    "    \n",
    "    classifier = LogisticRegression(input_dim, num_class).to(device)\n",
    "    optimizer = Adam(classifier.parameters(), lr=0.02)\n",
    "    criterion = torch.nn.CrossEntropyLoss()\n",
    "    \n",
    "    for epoch in range(400):\n",
    "        classifier.train()\n",
    "        optimizer.zero_grad()\n",
    "        logits = classifier(z)  \n",
    "        loss = criterion(logits[idx_train_sub], train_labels_sub)\n",
    "        loss.backward()\n",
    "        optimizer.step()\n",
    "        \n",
    "        if epoch % 40 == 0:\n",
    "            classifier.eval()\n",
    "            with torch.no_grad():\n",
    "                logits_val = classifier(z)\n",
    "                loss_val = criterion(logits_val[idx_val], val_labels)\n",
    "                preds = logits_val.argmax(dim=1)\n",
    "                correct = preds[idx_val].eq(val_labels).sum().item()\n",
    "                accuracy = correct / len(val_labels)\n",
    "                print(f'Epoch: {epoch}, Train Loss: {loss:.4f}, Val Loss: {loss_val:.4f}, Val Accuracy: {accuracy:.4f}')\n",
    "        \n",
    "    classifier.eval()\n",
    "    with torch.no_grad():\n",
    "        logits = classifier(z)\n",
    "        preds = logits.argmax(dim=1)\n",
    "        correct = preds[idx_val].eq(val_labels).sum().item()\n",
    "        accuracy = correct / len(val_labels)\n",
    "        print(f'Final Val Accuracy: {accuracy:.4f}')\n",
    "\n",
    "    return accuracy"
   ]
  },
  {
   "cell_type": "code",
   "execution_count": 19,
   "id": "772d5cbe-27ff-4103-9cf1-69a9f0a214aa",
   "metadata": {
    "tags": []
   },
   "outputs": [],
   "source": [
    "aug1 = A.Compose([A.EdgeRemoving(pe=0.1), A.FeatureMasking(pf=0.1), A.FeatureDropout(pf=0.1), A.NodeDropping(pn=0.2)])\n",
    "aug2 = A.Compose([A.EdgeRemoving(pe=0.1), A.FeatureMasking(pf=0.1), A.FeatureDropout(pf=0.1), A.NodeDropping(pn=0.2)])"
   ]
  },
  {
   "cell_type": "code",
   "execution_count": 20,
   "id": "4ebbde87-4fcd-449b-8d24-5418d5998848",
   "metadata": {},
   "outputs": [],
   "source": [
    "gconv = GCN(in_channels=num_features, hidden_channels=512, \n",
    "               out_channels=32, num_layers=3, dropout=0.5).to(device)"
   ]
  },
  {
   "cell_type": "code",
   "execution_count": 21,
   "id": "ea77be13-d88d-4a80-b52a-e31ccc7ab530",
   "metadata": {
    "tags": []
   },
   "outputs": [],
   "source": [
    "encoder_model = Encoder(encoder=gconv, augmentor=(aug1, aug2), hidden_dim=32, proj_dim=32).to(device)\n",
    "contrast_model = DualBranchContrast(loss=L.InfoNCE(tau=0.2), mode='L2L', intraview_negs=True).to(device)"
   ]
  },
  {
   "cell_type": "code",
   "execution_count": 22,
   "id": "a0ab0b7a-fc73-4bd1-b9ec-87286ef1b81d",
   "metadata": {
    "tags": []
   },
   "outputs": [],
   "source": [
    "optimizer = Adam(encoder_model.parameters(), lr=0.001)"
   ]
  },
  {
   "cell_type": "code",
   "execution_count": 23,
   "id": "bad208c6-2229-440e-9d14-01e4c04f4228",
   "metadata": {
    "tags": []
   },
   "outputs": [
    {
     "name": "stderr",
     "output_type": "stream",
     "text": [
      "(T):   0%|          | 0/700 [00:00<?, ?it/s]F:\\anaconda\\Lib\\site-packages\\torch_geometric\\deprecation.py:26: UserWarning: 'dropout_adj' is deprecated, use 'dropout_edge' instead\n",
      "  warnings.warn(out)\n",
      "(T):  14%|█▍        | 100/700 [00:04<00:23, 25.76it/s, loss=8.38]"
     ]
    },
    {
     "name": "stdout",
     "output_type": "stream",
     "text": [
      "Epoch: 0, Train Loss: 3.3788, Val Loss: 2.7310, Val Accuracy: 0.1400\n",
      "Epoch: 40, Train Loss: 1.5374, Val Loss: 1.5558, Val Accuracy: 0.4300\n",
      "Epoch: 80, Train Loss: 1.3435, Val Loss: 1.3526, Val Accuracy: 0.4800\n",
      "Epoch: 120, Train Loss: 1.2484, Val Loss: 1.2484, Val Accuracy: 0.5300\n",
      "Epoch: 160, Train Loss: 1.1823, Val Loss: 1.1733, Val Accuracy: 0.5600\n",
      "Epoch: 200, Train Loss: 1.1309, Val Loss: 1.1146, Val Accuracy: 0.5800\n",
      "Epoch: 240, Train Loss: 1.0889, Val Loss: 1.0675, Val Accuracy: 0.6000\n",
      "Epoch: 280, Train Loss: 1.0537, Val Loss: 1.0292, Val Accuracy: 0.6300\n"
     ]
    },
    {
     "name": "stderr",
     "output_type": "stream",
     "text": [
      "(T):  14%|█▍        | 101/700 [00:04<00:23, 25.76it/s, loss=8.4] "
     ]
    },
    {
     "name": "stdout",
     "output_type": "stream",
     "text": [
      "Epoch: 320, Train Loss: 1.0235, Val Loss: 0.9978, Val Accuracy: 0.6300\n",
      "Epoch: 360, Train Loss: 0.9974, Val Loss: 0.9717, Val Accuracy: 0.6300\n",
      "Final Val Accuracy: 0.6500\n"
     ]
    },
    {
     "name": "stderr",
     "output_type": "stream",
     "text": [
      "(T):  28%|██▊       | 199/700 [00:08<00:20, 24.57it/s, loss=7.96]"
     ]
    },
    {
     "name": "stdout",
     "output_type": "stream",
     "text": [
      "Epoch: 0, Train Loss: 3.1012, Val Loss: 2.5677, Val Accuracy: 0.2300\n",
      "Epoch: 40, Train Loss: 0.7733, Val Loss: 0.7211, Val Accuracy: 0.7300\n",
      "Epoch: 80, Train Loss: 0.7338, Val Loss: 0.6836, Val Accuracy: 0.7600\n",
      "Epoch: 120, Train Loss: 0.7149, Val Loss: 0.6684, Val Accuracy: 0.7400\n",
      "Epoch: 160, Train Loss: 0.7011, Val Loss: 0.6574, Val Accuracy: 0.7400\n",
      "Epoch: 200, Train Loss: 0.6903, Val Loss: 0.6491, Val Accuracy: 0.7400\n",
      "Epoch: 240, Train Loss: 0.6814, Val Loss: 0.6424, Val Accuracy: 0.7500\n",
      "Epoch: 280, Train Loss: 0.6740, Val Loss: 0.6367, Val Accuracy: 0.7500\n",
      "Epoch: 320, Train Loss: 0.6677, Val Loss: 0.6319, Val Accuracy: 0.7500\n"
     ]
    },
    {
     "name": "stderr",
     "output_type": "stream",
     "text": [
      "(T):  29%|██▉       | 202/700 [00:09<00:46, 10.61it/s, loss=7.99]"
     ]
    },
    {
     "name": "stdout",
     "output_type": "stream",
     "text": [
      "Epoch: 360, Train Loss: 0.6621, Val Loss: 0.6278, Val Accuracy: 0.7600\n",
      "Final Val Accuracy: 0.7700\n"
     ]
    },
    {
     "name": "stderr",
     "output_type": "stream",
     "text": [
      "(T):  43%|████▎     | 299/700 [00:13<00:16, 24.00it/s, loss=7.83]"
     ]
    },
    {
     "name": "stdout",
     "output_type": "stream",
     "text": [
      "Epoch: 0, Train Loss: 2.9851, Val Loss: 2.7800, Val Accuracy: 0.2600\n",
      "Epoch: 40, Train Loss: 0.6941, Val Loss: 0.6427, Val Accuracy: 0.7700\n",
      "Epoch: 80, Train Loss: 0.6549, Val Loss: 0.5981, Val Accuracy: 0.7900\n",
      "Epoch: 120, Train Loss: 0.6386, Val Loss: 0.5809, Val Accuracy: 0.7900\n",
      "Epoch: 160, Train Loss: 0.6272, Val Loss: 0.5652, Val Accuracy: 0.7900\n",
      "Epoch: 200, Train Loss: 0.6180, Val Loss: 0.5511, Val Accuracy: 0.7900\n",
      "Epoch: 240, Train Loss: 0.6101, Val Loss: 0.5396, Val Accuracy: 0.7900\n",
      "Epoch: 280, Train Loss: 0.6033, Val Loss: 0.5302, Val Accuracy: 0.8000\n",
      "Epoch: 320, Train Loss: 0.5971, Val Loss: 0.5226, Val Accuracy: 0.8000\n"
     ]
    },
    {
     "name": "stderr",
     "output_type": "stream",
     "text": [
      "(T):  43%|████▎     | 302/700 [00:14<00:37, 10.49it/s, loss=7.88]"
     ]
    },
    {
     "name": "stdout",
     "output_type": "stream",
     "text": [
      "Epoch: 360, Train Loss: 0.5914, Val Loss: 0.5163, Val Accuracy: 0.8100\n",
      "Final Val Accuracy: 0.8100\n"
     ]
    },
    {
     "name": "stderr",
     "output_type": "stream",
     "text": [
      "(T):  57%|█████▋    | 400/700 [00:18<00:11, 25.10it/s, loss=7.8] "
     ]
    },
    {
     "name": "stdout",
     "output_type": "stream",
     "text": [
      "Epoch: 0, Train Loss: 2.0088, Val Loss: 1.6415, Val Accuracy: 0.5500\n",
      "Epoch: 40, Train Loss: 0.6295, Val Loss: 0.5471, Val Accuracy: 0.8300\n",
      "Epoch: 80, Train Loss: 0.5920, Val Loss: 0.5433, Val Accuracy: 0.8200\n",
      "Epoch: 120, Train Loss: 0.5733, Val Loss: 0.5357, Val Accuracy: 0.8100\n",
      "Epoch: 160, Train Loss: 0.5596, Val Loss: 0.5377, Val Accuracy: 0.8200\n",
      "Epoch: 200, Train Loss: 0.5484, Val Loss: 0.5461, Val Accuracy: 0.8200\n",
      "Epoch: 240, Train Loss: 0.5389, Val Loss: 0.5572, Val Accuracy: 0.8100\n",
      "Epoch: 280, Train Loss: 0.5305, Val Loss: 0.5658, Val Accuracy: 0.8200\n",
      "Epoch: 320, Train Loss: 0.5228, Val Loss: 0.5711, Val Accuracy: 0.8200\n",
      "Epoch: 360, Train Loss: 0.5158, Val Loss: 0.5738, Val Accuracy: 0.8200\n"
     ]
    },
    {
     "name": "stderr",
     "output_type": "stream",
     "text": [
      "(T):  58%|█████▊    | 404/700 [00:18<00:27, 10.65it/s, loss=7.84]"
     ]
    },
    {
     "name": "stdout",
     "output_type": "stream",
     "text": [
      "Final Val Accuracy: 0.8200\n"
     ]
    },
    {
     "name": "stderr",
     "output_type": "stream",
     "text": [
      "(T):  71%|███████▏  | 499/700 [00:22<00:07, 25.30it/s, loss=7.82]"
     ]
    },
    {
     "name": "stdout",
     "output_type": "stream",
     "text": [
      "Epoch: 0, Train Loss: 3.3592, Val Loss: 2.6670, Val Accuracy: 0.3400\n",
      "Epoch: 40, Train Loss: 0.6372, Val Loss: 0.6036, Val Accuracy: 0.8200\n",
      "Epoch: 80, Train Loss: 0.5756, Val Loss: 0.5560, Val Accuracy: 0.8300\n",
      "Epoch: 120, Train Loss: 0.5487, Val Loss: 0.5363, Val Accuracy: 0.8400\n",
      "Epoch: 160, Train Loss: 0.5316, Val Loss: 0.5273, Val Accuracy: 0.8400\n",
      "Epoch: 200, Train Loss: 0.5193, Val Loss: 0.5243, Val Accuracy: 0.8400\n",
      "Epoch: 240, Train Loss: 0.5098, Val Loss: 0.5231, Val Accuracy: 0.8500\n",
      "Epoch: 280, Train Loss: 0.5018, Val Loss: 0.5226, Val Accuracy: 0.8400\n"
     ]
    },
    {
     "name": "stderr",
     "output_type": "stream",
     "text": [
      "(T):  72%|███████▏  | 502/700 [00:23<00:18, 10.56it/s, loss=7.74]"
     ]
    },
    {
     "name": "stdout",
     "output_type": "stream",
     "text": [
      "Epoch: 320, Train Loss: 0.4950, Val Loss: 0.5224, Val Accuracy: 0.8400\n",
      "Epoch: 360, Train Loss: 0.4890, Val Loss: 0.5223, Val Accuracy: 0.8400\n",
      "Final Val Accuracy: 0.8500\n"
     ]
    },
    {
     "name": "stderr",
     "output_type": "stream",
     "text": [
      "(T):  86%|████████▌ | 599/700 [00:27<00:04, 24.49it/s, loss=7.71]"
     ]
    },
    {
     "name": "stdout",
     "output_type": "stream",
     "text": [
      "Epoch: 0, Train Loss: 5.3429, Val Loss: 4.3637, Val Accuracy: 0.1600\n",
      "Epoch: 40, Train Loss: 0.6309, Val Loss: 0.5988, Val Accuracy: 0.8300\n",
      "Epoch: 80, Train Loss: 0.5522, Val Loss: 0.5610, Val Accuracy: 0.8500\n",
      "Epoch: 120, Train Loss: 0.5273, Val Loss: 0.5400, Val Accuracy: 0.8400\n",
      "Epoch: 160, Train Loss: 0.5119, Val Loss: 0.5379, Val Accuracy: 0.8600\n",
      "Epoch: 200, Train Loss: 0.5007, Val Loss: 0.5404, Val Accuracy: 0.8500\n",
      "Epoch: 240, Train Loss: 0.4921, Val Loss: 0.5438, Val Accuracy: 0.8500\n",
      "Epoch: 280, Train Loss: 0.4850, Val Loss: 0.5465, Val Accuracy: 0.8500\n"
     ]
    },
    {
     "name": "stderr",
     "output_type": "stream",
     "text": [
      "(T):  86%|████████▌ | 601/700 [00:27<00:10,  9.79it/s, loss=7.68]"
     ]
    },
    {
     "name": "stdout",
     "output_type": "stream",
     "text": [
      "Epoch: 320, Train Loss: 0.4791, Val Loss: 0.5483, Val Accuracy: 0.8500\n",
      "Epoch: 360, Train Loss: 0.4739, Val Loss: 0.5493, Val Accuracy: 0.8500\n",
      "Final Val Accuracy: 0.8500\n"
     ]
    },
    {
     "name": "stderr",
     "output_type": "stream",
     "text": [
      "(T): 100%|██████████| 700/700 [00:31<00:00, 25.47it/s, loss=7.73]"
     ]
    },
    {
     "name": "stdout",
     "output_type": "stream",
     "text": [
      "Epoch: 0, Train Loss: 4.4184, Val Loss: 4.0197, Val Accuracy: 0.1700\n",
      "Epoch: 40, Train Loss: 0.5771, Val Loss: 0.5871, Val Accuracy: 0.8400\n",
      "Epoch: 80, Train Loss: 0.5168, Val Loss: 0.5675, Val Accuracy: 0.8600\n",
      "Epoch: 120, Train Loss: 0.4960, Val Loss: 0.5539, Val Accuracy: 0.8500\n",
      "Epoch: 160, Train Loss: 0.4832, Val Loss: 0.5512, Val Accuracy: 0.8500\n",
      "Epoch: 200, Train Loss: 0.4737, Val Loss: 0.5497, Val Accuracy: 0.8500\n",
      "Epoch: 240, Train Loss: 0.4660, Val Loss: 0.5489, Val Accuracy: 0.8500\n",
      "Epoch: 280, Train Loss: 0.4594, Val Loss: 0.5483, Val Accuracy: 0.8500\n"
     ]
    },
    {
     "name": "stderr",
     "output_type": "stream",
     "text": [
      "(T): 100%|██████████| 700/700 [00:32<00:00, 21.60it/s, loss=7.73]"
     ]
    },
    {
     "name": "stdout",
     "output_type": "stream",
     "text": [
      "Epoch: 320, Train Loss: 0.4535, Val Loss: 0.5474, Val Accuracy: 0.8500\n",
      "Epoch: 360, Train Loss: 0.4482, Val Loss: 0.5462, Val Accuracy: 0.8500\n",
      "Final Val Accuracy: 0.8500\n"
     ]
    },
    {
     "name": "stderr",
     "output_type": "stream",
     "text": [
      "\n"
     ]
    }
   ],
   "source": [
    "with tqdm(total=700, desc='(T)') as pbar:\n",
    "    for epoch in range(1, 701):\n",
    "        loss = train(encoder_model, contrast_model, optimizer=optimizer)\n",
    "        pbar.set_postfix({'loss': loss})\n",
    "        pbar.update()\n",
    "        if epoch % 100 == 0:\n",
    "            test(encoder_model, input_dim=32, num_class=7)"
   ]
  }
 ],
 "metadata": {
  "kernelspec": {
   "display_name": "Python 3 (ipykernel)",
   "language": "python",
   "name": "python3"
  },
  "language_info": {
   "codemirror_mode": {
    "name": "ipython",
    "version": 3
   },
   "file_extension": ".py",
   "mimetype": "text/x-python",
   "name": "python",
   "nbconvert_exporter": "python",
   "pygments_lexer": "ipython3",
   "version": "3.11.7"
  }
 },
 "nbformat": 4,
 "nbformat_minor": 5
}
